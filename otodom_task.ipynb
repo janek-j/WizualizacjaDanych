{
 "cells": [
  {
   "metadata": {},
   "cell_type": "markdown",
   "source": "# URL, przetwarzanie stron",
   "id": "58be954db28b309"
  },
  {
   "metadata": {
    "ExecuteTime": {
     "end_time": "2024-06-02T15:57:15.949888Z",
     "start_time": "2024-06-02T15:57:15.833013Z"
    }
   },
   "cell_type": "code",
   "source": [
    "import requests\n",
    "from bs4 import BeautifulSoup\n",
    "from tabulate import tabulate\n",
    "\n",
    "url = \"https://www.otodom.pl/pl/wyniki/sprzedaz/mieszkanie/malopolskie/krakow/krakow/krakow?limit=36&ownerTypeSingleSelect=ALL&by=DEFAULT&direction=DESC&viewType=listing&page=\"\n",
    "\n",
    "\n",
    "headers = {\n",
    "    \"User-Agent\": \"Mozilla/5.0\"\n",
    "}\n",
    "\n",
    "neighborhoods = {\n",
    "    'Grzegórzki', 'Swoszowice', 'Stare Miasto', 'Prądnik Czerwony', 'Zwierzyniec', 'Bronowice', 'Prądnik Biały', 'Dębniki', 'Krowodrza', 'Łagiewniki-Borek Fałęcki', 'Podgórze Duchackie', 'Bieżanów-Prokocim', 'Podgórze', 'Czyżyny', 'Mistrzejowice', 'Bieńczyce', 'Wzgórza Krzesławickie', 'Nowa Huta'\n",
    "}\n"
   ],
   "id": "initial_id",
   "outputs": [],
   "execution_count": 1
  },
  {
   "metadata": {
    "ExecuteTime": {
     "end_time": "2024-06-02T15:57:30.169026Z",
     "start_time": "2024-06-02T15:57:15.951443Z"
    }
   },
   "cell_type": "code",
   "source": [
    "pages = []\n",
    "\n",
    "for page in range(1, 10):\n",
    "    ready_url = f\"{url}{page}\"\n",
    "    response = requests.get(ready_url, headers=headers)\n",
    "    if response.status_code == 200:\n",
    "        soup = BeautifulSoup(response.content, \"html.parser\")\n",
    "        pages.append(soup)\n",
    "\n",
    "        print(f\"Status: {response.status_code}. Przetwarzam strone: {page}\")"
   ],
   "id": "4fe0bff218ac755d",
   "outputs": [
    {
     "name": "stdout",
     "output_type": "stream",
     "text": [
      "Status: 200. Przetwarzam strone: 1\n",
      "Status: 200. Przetwarzam strone: 2\n",
      "Status: 200. Przetwarzam strone: 3\n",
      "Status: 200. Przetwarzam strone: 4\n",
      "Status: 200. Przetwarzam strone: 5\n",
      "Status: 200. Przetwarzam strone: 6\n",
      "Status: 200. Przetwarzam strone: 7\n",
      "Status: 200. Przetwarzam strone: 8\n",
      "Status: 200. Przetwarzam strone: 9\n"
     ]
    }
   ],
   "execution_count": 2
  },
  {
   "metadata": {
    "ExecuteTime": {
     "end_time": "2024-06-02T15:57:37.988780Z",
     "start_time": "2024-06-02T15:57:37.823064Z"
    }
   },
   "cell_type": "code",
   "source": [
    "import re\n",
    "\n",
    "flat_info = {}\n",
    "\n",
    "for page_index, page in enumerate(pages):\n",
    "    all_flats = page.find('div', attrs={'data-cy': 'search.listing.organic'}).find_all('li')\n",
    "    for flat_index, flat in enumerate(all_flats):\n",
    "        unique_key = f\"{page_index}_{flat_index}\"\n",
    "        \n",
    "        title = flat.find('div', class_=\"css-12h460e efr035y1\")\n",
    "        if title:\n",
    "            title = title.text.strip()\n",
    "            \n",
    "            district_match = re.search(r', ([^,]+), Kraków', title)\n",
    "            district = district_match.group(1).strip() if district_match else None\n",
    "        price = flat.find('span', class_=\"css-1uwck7i e1a3ad6s0\")\n",
    "        if price:\n",
    "            price = price.text.strip()\n",
    "        \n",
    "        information_of_flat = flat.find('dl', class_=\"css-uki0wd e12r8p6s1\")\n",
    "        if information_of_flat:\n",
    "            information_of_flat = information_of_flat.text.strip()\n",
    "            print(information_of_flat)\n",
    "            num_of_rooms_match = re.search(r'Liczba pokoi\\s*(\\d+)', information_of_flat)\n",
    "            num_of_rooms = num_of_rooms_match.group(1) if num_of_rooms_match else None\n",
    "            \n",
    "            perimeter_match = re.search(r'Powierzchnia\\s*([\\d,]+)\\s*m²', information_of_flat)\n",
    "            perimeter = perimeter_match.group(1).replace(',', '.') if perimeter_match else None\n",
    "            \n",
    "            price_per_meter_squared_match = re.search(r'Cena za metr kwadratowy\\s*([\\d\\s]+)zł/m²', information_of_flat)\n",
    "            price_per_meter_squared = price_per_meter_squared_match.group(1).replace('\\xa0', '').replace(' ', '') if price_per_meter_squared_match else None\n",
    "            \n",
    "            url = 'https://www.otodom.pl' + flat.find('a', attrs={'data-cy': 'listing-item-link'})['href']\n",
    "            \n",
    "            flat_info[unique_key] = {\n",
    "                'title': title,\n",
    "                'price': price,\n",
    "                'num_of_rooms': num_of_rooms,\n",
    "                'perimeter': perimeter,\n",
    "                'price_per_meter_squared': price_per_meter_squared,\n",
    "                'url': url,\n",
    "                'district': district\n",
    "                \n",
    "            }\n",
    "\n",
    "\n",
    "for unique_key, info in flat_info.items():\n",
    "    print(f\"Unique Key: {unique_key}\")\n",
    "    print(f\"Title: {info['title']}\")\n",
    "    print(f\"Price: {info['price']}\")\n",
    "    print(f\"Number of Rooms: {info['num_of_rooms']}\")\n",
    "    print(f\"Perimeter: {info['perimeter']}\")\n",
    "    print(f\"Price per Meter Squared: {info['price_per_meter_squared']}\")\n",
    "    print(f\"URL: {info['url']}\")\n",
    "    print(f\"District: {info['district']}\\n\")\n",
    "    "
   ],
   "id": "e9bda81fdaa6e704",
   "outputs": [],
   "execution_count": 6
  },
  {
   "metadata": {},
   "cell_type": "markdown",
   "source": "",
   "id": "6345cae96831556e"
  },
  {
   "metadata": {},
   "cell_type": "markdown",
   "source": "# Wizualizacja w postaci tabeli",
   "id": "54c47f19a27677d"
  },
  {
   "metadata": {
    "ExecuteTime": {
     "end_time": "2024-06-02T15:57:30.334531Z",
     "start_time": "2024-06-02T15:57:30.330197Z"
    }
   },
   "cell_type": "code",
   "source": [
    "# Konwersja danych na listę list dla tabulate\n",
    "table = []\n",
    "for unique_key, info in flat_info.items():\n",
    "    row = [unique_key]\n",
    "    row.extend([info[key] for key in ['title', 'price', 'num_of_rooms', 'perimeter', 'price_per_meter_squared', 'url', 'district']])\n",
    "    table.append(row)\n",
    "\n",
    "# Wyświetlanie danych w postaci tabeli\n",
    "headers = ['Unique Key', 'Title', 'Price', 'Number of Rooms', 'Perimeter', 'Price per Meter Squared', 'URL', 'District']\n",
    "print(tabulate(table, headers=headers, tablefmt=\"pipe\"))\n"
   ],
   "id": "f38f38a6a438dc6e",
   "outputs": [
    {
     "name": "stdout",
     "output_type": "stream",
     "text": [
      "| Unique Key   | Title   | Price   | Number of Rooms   | Perimeter   | Price per Meter Squared   | URL   | District   |\n",
      "|--------------|---------|---------|-------------------|-------------|---------------------------|-------|------------|\n"
     ]
    }
   ],
   "execution_count": 4
  },
  {
   "metadata": {
    "ExecuteTime": {
     "end_time": "2024-06-02T15:57:32.115336Z",
     "start_time": "2024-06-02T15:57:30.336287Z"
    }
   },
   "cell_type": "code",
   "source": "import matplotlib.pyplot as plt\n",
   "id": "95fac0c6ec8ece79",
   "outputs": [],
   "execution_count": 5
  }
 ],
 "metadata": {
  "kernelspec": {
   "display_name": "Python 3",
   "language": "python",
   "name": "python3"
  },
  "language_info": {
   "codemirror_mode": {
    "name": "ipython",
    "version": 2
   },
   "file_extension": ".py",
   "mimetype": "text/x-python",
   "name": "python",
   "nbconvert_exporter": "python",
   "pygments_lexer": "ipython2",
   "version": "2.7.6"
  }
 },
 "nbformat": 4,
 "nbformat_minor": 5
}
